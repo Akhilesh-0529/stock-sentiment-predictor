{
 "cells": [
  {
   "cell_type": "code",
   "execution_count": null,
   "id": "3e693c18",
   "metadata": {
    "vscode": {
     "languageId": "bash"
    }
   },
   "outputs": [],
   "source": [
    "./.venv/bin/python -m pip install --upgrade pip setuptools wheel && \\\n",
    "if [ -f requirements-ci.txt ]; then ./.venv/bin/python -m pip install -r requirements-ci.txt; \\\n",
    "elif [ -f requirements.txt ]; then ./.venv/bin/python -m pip install -r requirements.txt; \\\n",
    "else ./.venv/bin/python -m pip install pytest; fi && \\\n",
    "./.venv/bin/python -m pytest -q && \\\n",
    "./.venv/bin/python -m pip install flake8 && \\\n",
    "./.venv/bin/flake8 src tests"
   ]
  }
 ],
 "metadata": {
  "language_info": {
   "name": "python"
  }
 },
 "nbformat": 4,
 "nbformat_minor": 5
}
